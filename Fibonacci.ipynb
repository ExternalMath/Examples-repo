{
 "cells": [
  {
   "cell_type": "code",
   "execution_count": 13,
   "metadata": {},
   "outputs": [
    {
     "name": "stdin",
     "output_type": "stream",
     "text": [
      "Enter the number of Fibonacci iterations:  13\n"
     ]
    },
    {
     "data": {
      "image/png": "[encoded data removed]",
      "text/plain": [
       "<Figure size 432x288 with 1 Axes>"
      ]
     },
     "metadata": {
      "needs_background": "light"
     },
     "output_type": "display_data"
    },
    {
     "name": "stdout",
     "output_type": "stream",
     "text": [
      "The fibonacci iteration 13 has the value 233\n"
     ]
    }
   ],
   "source": [
    "import numpy as np\n",
    "from matplotlib import pyplot as plt\n",
    "\n",
    "#Fibonacci Sequence Calculator (FAST)\n",
    "def fibonaccinumber(m):\n",
    "    a = 0\n",
    "    b = 1\n",
    "    y = []\n",
    "    x = []\n",
    "    if m < 0:\n",
    "        print(\"Incorrect input\")\n",
    "    elif m == 0:\n",
    "        return a\n",
    "    elif m == 1:\n",
    "        return b\n",
    "    else:\n",
    "        for i in range(1,m):\n",
    "            c = a + b\n",
    "            #print(c)\n",
    "            a = b\n",
    "            #print(a)\n",
    "            b = c\n",
    "            #print(b)\n",
    "            y.append(b)\n",
    "            x.append(i)\n",
    "\n",
    "    plt.plot(x,y,'ro')\n",
    "    plt.xlabel('Iteration')\n",
    "    plt.ylabel('Iteration Value')\n",
    "    plt.title('Fibonacci Series')\n",
    "    plt.show()\n",
    "    print(\"The fibonacci iteration\",m,\"has the value\",b)\n",
    "    return\n",
    "\n",
    "\n",
    "#change this value:\n",
    "m = int(input('Enter the number of Fibonacci iterations: '))\n",
    "fibonaccinumber(m)\n",
    "   "
   ]
  },
  {
   "cell_type": "code",
   "execution_count": null,
   "metadata": {},
   "outputs": [],
   "source": []
  }
 ],
 "metadata": {
  "kernelspec": {
   "display_name": "Python 3",
   "language": "python",
   "name": "python3"
  },
  "language_info": {
   "codemirror_mode": {
    "name": "ipython",
    "version": 3
   },
   "file_extension": ".py",
   "mimetype": "text/x-python",
   "name": "python",
   "nbconvert_exporter": "python",
   "pygments_lexer": "ipython3",
   "version": "3.7.4"
  }
 },
 "nbformat": 4,
 "nbformat_minor": 4
}
